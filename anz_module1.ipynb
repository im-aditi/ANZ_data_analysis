{
 "cells": [
  {
   "cell_type": "code",
   "execution_count": 1,
   "metadata": {},
   "outputs": [],
   "source": [
    "import numpy as np\n",
    "import matplotlib.pyplot as plt\n",
    "import pandas as pd\n",
    "%matplotlib inline"
   ]
  },
  {
   "cell_type": "code",
   "execution_count": 2,
   "metadata": {},
   "outputs": [],
   "source": [
    "data=pd.read_excel(\"path/ANZ/ANZ synthesised transaction dataset.xlsx\")"
   ]
  },
  {
   "cell_type": "code",
   "execution_count": 3,
   "metadata": {},
   "outputs": [
    {
     "name": "stdout",
     "output_type": "stream",
     "text": [
      "[]\n"
     ]
    }
   ],
   "source": [
    "#duplicate data check\n",
    "dupli=[i for i in data.duplicated() if i is True]\n",
    "print(dupli)"
   ]
  },
  {
   "cell_type": "code",
   "execution_count": 4,
   "metadata": {},
   "outputs": [],
   "source": [
    "#dropping irrelevant columns\n",
    "data=data.drop(['long_lat','merchant_id','merchant_code','transaction_id','country','currency','first_name','merchant_long_lat'],axis=1)"
   ]
  },
  {
   "cell_type": "code",
   "execution_count": 5,
   "metadata": {},
   "outputs": [
    {
     "data": {
      "text/html": [
       "<div>\n",
       "<style scoped>\n",
       "    .dataframe tbody tr th:only-of-type {\n",
       "        vertical-align: middle;\n",
       "    }\n",
       "\n",
       "    .dataframe tbody tr th {\n",
       "        vertical-align: top;\n",
       "    }\n",
       "\n",
       "    .dataframe thead th {\n",
       "        text-align: right;\n",
       "    }\n",
       "</style>\n",
       "<table border=\"1\" class=\"dataframe\">\n",
       "  <thead>\n",
       "    <tr style=\"text-align: right;\">\n",
       "      <th></th>\n",
       "      <th>status</th>\n",
       "      <th>card_present_flag</th>\n",
       "      <th>bpay_biller_code</th>\n",
       "      <th>account</th>\n",
       "      <th>txn_description</th>\n",
       "      <th>balance</th>\n",
       "      <th>date</th>\n",
       "      <th>gender</th>\n",
       "      <th>age</th>\n",
       "      <th>merchant_suburb</th>\n",
       "      <th>merchant_state</th>\n",
       "      <th>extraction</th>\n",
       "      <th>amount</th>\n",
       "      <th>customer_id</th>\n",
       "      <th>movement</th>\n",
       "    </tr>\n",
       "  </thead>\n",
       "  <tbody>\n",
       "    <tr>\n",
       "      <th>0</th>\n",
       "      <td>authorized</td>\n",
       "      <td>1.0</td>\n",
       "      <td>NaN</td>\n",
       "      <td>ACC-1598451071</td>\n",
       "      <td>POS</td>\n",
       "      <td>35.39</td>\n",
       "      <td>2018-08-01</td>\n",
       "      <td>F</td>\n",
       "      <td>26</td>\n",
       "      <td>Ashmore</td>\n",
       "      <td>QLD</td>\n",
       "      <td>2018-08-01T01:01:15.000+0000</td>\n",
       "      <td>16.25</td>\n",
       "      <td>CUS-2487424745</td>\n",
       "      <td>debit</td>\n",
       "    </tr>\n",
       "    <tr>\n",
       "      <th>1</th>\n",
       "      <td>authorized</td>\n",
       "      <td>0.0</td>\n",
       "      <td>NaN</td>\n",
       "      <td>ACC-1598451071</td>\n",
       "      <td>SALES-POS</td>\n",
       "      <td>21.20</td>\n",
       "      <td>2018-08-01</td>\n",
       "      <td>F</td>\n",
       "      <td>26</td>\n",
       "      <td>Sydney</td>\n",
       "      <td>NSW</td>\n",
       "      <td>2018-08-01T01:13:45.000+0000</td>\n",
       "      <td>14.19</td>\n",
       "      <td>CUS-2487424745</td>\n",
       "      <td>debit</td>\n",
       "    </tr>\n",
       "    <tr>\n",
       "      <th>2</th>\n",
       "      <td>authorized</td>\n",
       "      <td>1.0</td>\n",
       "      <td>NaN</td>\n",
       "      <td>ACC-1222300524</td>\n",
       "      <td>POS</td>\n",
       "      <td>5.71</td>\n",
       "      <td>2018-08-01</td>\n",
       "      <td>M</td>\n",
       "      <td>38</td>\n",
       "      <td>Sydney</td>\n",
       "      <td>NSW</td>\n",
       "      <td>2018-08-01T01:26:15.000+0000</td>\n",
       "      <td>6.42</td>\n",
       "      <td>CUS-2142601169</td>\n",
       "      <td>debit</td>\n",
       "    </tr>\n",
       "  </tbody>\n",
       "</table>\n",
       "</div>"
      ],
      "text/plain": [
       "       status  card_present_flag bpay_biller_code         account  \\\n",
       "0  authorized                1.0              NaN  ACC-1598451071   \n",
       "1  authorized                0.0              NaN  ACC-1598451071   \n",
       "2  authorized                1.0              NaN  ACC-1222300524   \n",
       "\n",
       "  txn_description  balance       date gender  age merchant_suburb  \\\n",
       "0             POS    35.39 2018-08-01      F   26         Ashmore   \n",
       "1       SALES-POS    21.20 2018-08-01      F   26          Sydney   \n",
       "2             POS     5.71 2018-08-01      M   38          Sydney   \n",
       "\n",
       "  merchant_state                    extraction  amount     customer_id  \\\n",
       "0            QLD  2018-08-01T01:01:15.000+0000   16.25  CUS-2487424745   \n",
       "1            NSW  2018-08-01T01:13:45.000+0000   14.19  CUS-2487424745   \n",
       "2            NSW  2018-08-01T01:26:15.000+0000    6.42  CUS-2142601169   \n",
       "\n",
       "  movement  \n",
       "0    debit  \n",
       "1    debit  \n",
       "2    debit  "
      ]
     },
     "execution_count": 5,
     "metadata": {},
     "output_type": "execute_result"
    }
   ],
   "source": [
    "data.head(3)"
   ]
  },
  {
   "cell_type": "code",
   "execution_count": 6,
   "metadata": {},
   "outputs": [
    {
     "data": {
      "text/plain": [
       "187.93358797641767"
      ]
     },
     "execution_count": 6,
     "metadata": {},
     "output_type": "execute_result"
    }
   ],
   "source": [
    "#Average Transaction Amount\n",
    "data['amount'].mean()"
   ]
  },
  {
   "cell_type": "markdown",
   "metadata": {},
   "source": [
    "How many transactions do customers make each month, on average?"
   ]
  },
  {
   "cell_type": "code",
   "execution_count": 7,
   "metadata": {},
   "outputs": [],
   "source": [
    "Months = {'08':'Aug','09':'Sep','10':'Oct'}\n",
    "s = list(data['date'])\n",
    "t = [str(i).split('-')[1] for i in s]\n",
    "month = pd.Series([Months[i] for i in t])"
   ]
  },
  {
   "cell_type": "code",
   "execution_count": 8,
   "metadata": {},
   "outputs": [],
   "source": [
    "data['month']=month"
   ]
  },
  {
   "cell_type": "code",
   "execution_count": 9,
   "metadata": {},
   "outputs": [],
   "source": [
    "s=list(data['extraction'])\n",
    "t= [str(i).split('T')[1] for i in s]\n",
    "s=[i.split('.')[0] for i in t]\n",
    "time = [int(i.split(':')[0]) for i in s]\n",
    "hour=pd.Series(time)\n",
    "data['hour']=hour"
   ]
  },
  {
   "cell_type": "code",
   "execution_count": 10,
   "metadata": {},
   "outputs": [],
   "source": [
    "s = list(data['date'])\n",
    "t = [ [str(i).split('-')[2].split(' ')[0], str(i).split('-')[1]] for i in s]\n",
    "week_Aug = {1:'Wed',2:'Thu',3:'Fri',4:'Sat',5:'Sun',6:'Mon',0:'Tue'}\n",
    "week_Sep = {1:'Sat',2:'Sun',3:'Mon',4:'Tue',5:'Wed',6:'Thu',0:'Fri'}\n",
    "week_Oct = {1:'Mon',2:'Tue',3:'Wed',4:'Thu',5:'Fri',6:'Sat',0:'Sun',}\n",
    "k=0\n",
    "day=[]\n",
    "for i in t:\n",
    "    date, month = int(i[0]), i[1]\n",
    "    if month=='08':\n",
    "        r=date%7\n",
    "        day.append(week_Aug[r])\n",
    "        if k<6:\n",
    "            k=k+1\n",
    "        else:\n",
    "            k=0\n",
    "    if month=='09':\n",
    "        r=date%7\n",
    "        day.append(week_Sep[r])\n",
    "        if k<6:\n",
    "            k=k+1\n",
    "        else:\n",
    "            k=0\n",
    "    if month=='10':\n",
    "        r=date%7\n",
    "        day.append(week_Oct[r])\n",
    "        if k<6:\n",
    "            k=k+1\n",
    "        else:\n",
    "            k=0\n",
    "day=pd.Series(day)\n",
    "data['Day']=day"
   ]
  },
  {
   "cell_type": "code",
   "execution_count": 11,
   "metadata": {},
   "outputs": [
    {
     "data": {
      "text/html": [
       "<div>\n",
       "<style scoped>\n",
       "    .dataframe tbody tr th:only-of-type {\n",
       "        vertical-align: middle;\n",
       "    }\n",
       "\n",
       "    .dataframe tbody tr th {\n",
       "        vertical-align: top;\n",
       "    }\n",
       "\n",
       "    .dataframe thead th {\n",
       "        text-align: right;\n",
       "    }\n",
       "</style>\n",
       "<table border=\"1\" class=\"dataframe\">\n",
       "  <thead>\n",
       "    <tr style=\"text-align: right;\">\n",
       "      <th></th>\n",
       "      <th>status</th>\n",
       "      <th>card_present_flag</th>\n",
       "      <th>bpay_biller_code</th>\n",
       "      <th>account</th>\n",
       "      <th>txn_description</th>\n",
       "      <th>balance</th>\n",
       "      <th>date</th>\n",
       "      <th>gender</th>\n",
       "      <th>age</th>\n",
       "      <th>merchant_suburb</th>\n",
       "      <th>merchant_state</th>\n",
       "      <th>extraction</th>\n",
       "      <th>amount</th>\n",
       "      <th>customer_id</th>\n",
       "      <th>movement</th>\n",
       "      <th>month</th>\n",
       "      <th>hour</th>\n",
       "      <th>Day</th>\n",
       "    </tr>\n",
       "  </thead>\n",
       "  <tbody>\n",
       "    <tr>\n",
       "      <th>0</th>\n",
       "      <td>authorized</td>\n",
       "      <td>1.0</td>\n",
       "      <td>NaN</td>\n",
       "      <td>ACC-1598451071</td>\n",
       "      <td>POS</td>\n",
       "      <td>35.39</td>\n",
       "      <td>2018-08-01</td>\n",
       "      <td>F</td>\n",
       "      <td>26</td>\n",
       "      <td>Ashmore</td>\n",
       "      <td>QLD</td>\n",
       "      <td>2018-08-01T01:01:15.000+0000</td>\n",
       "      <td>16.25</td>\n",
       "      <td>CUS-2487424745</td>\n",
       "      <td>debit</td>\n",
       "      <td>Aug</td>\n",
       "      <td>1</td>\n",
       "      <td>Wed</td>\n",
       "    </tr>\n",
       "    <tr>\n",
       "      <th>1</th>\n",
       "      <td>authorized</td>\n",
       "      <td>0.0</td>\n",
       "      <td>NaN</td>\n",
       "      <td>ACC-1598451071</td>\n",
       "      <td>SALES-POS</td>\n",
       "      <td>21.20</td>\n",
       "      <td>2018-08-01</td>\n",
       "      <td>F</td>\n",
       "      <td>26</td>\n",
       "      <td>Sydney</td>\n",
       "      <td>NSW</td>\n",
       "      <td>2018-08-01T01:13:45.000+0000</td>\n",
       "      <td>14.19</td>\n",
       "      <td>CUS-2487424745</td>\n",
       "      <td>debit</td>\n",
       "      <td>Aug</td>\n",
       "      <td>1</td>\n",
       "      <td>Wed</td>\n",
       "    </tr>\n",
       "    <tr>\n",
       "      <th>2</th>\n",
       "      <td>authorized</td>\n",
       "      <td>1.0</td>\n",
       "      <td>NaN</td>\n",
       "      <td>ACC-1222300524</td>\n",
       "      <td>POS</td>\n",
       "      <td>5.71</td>\n",
       "      <td>2018-08-01</td>\n",
       "      <td>M</td>\n",
       "      <td>38</td>\n",
       "      <td>Sydney</td>\n",
       "      <td>NSW</td>\n",
       "      <td>2018-08-01T01:26:15.000+0000</td>\n",
       "      <td>6.42</td>\n",
       "      <td>CUS-2142601169</td>\n",
       "      <td>debit</td>\n",
       "      <td>Aug</td>\n",
       "      <td>1</td>\n",
       "      <td>Wed</td>\n",
       "    </tr>\n",
       "  </tbody>\n",
       "</table>\n",
       "</div>"
      ],
      "text/plain": [
       "       status  card_present_flag bpay_biller_code         account  \\\n",
       "0  authorized                1.0              NaN  ACC-1598451071   \n",
       "1  authorized                0.0              NaN  ACC-1598451071   \n",
       "2  authorized                1.0              NaN  ACC-1222300524   \n",
       "\n",
       "  txn_description  balance       date gender  age merchant_suburb  \\\n",
       "0             POS    35.39 2018-08-01      F   26         Ashmore   \n",
       "1       SALES-POS    21.20 2018-08-01      F   26          Sydney   \n",
       "2             POS     5.71 2018-08-01      M   38          Sydney   \n",
       "\n",
       "  merchant_state                    extraction  amount     customer_id  \\\n",
       "0            QLD  2018-08-01T01:01:15.000+0000   16.25  CUS-2487424745   \n",
       "1            NSW  2018-08-01T01:13:45.000+0000   14.19  CUS-2487424745   \n",
       "2            NSW  2018-08-01T01:26:15.000+0000    6.42  CUS-2142601169   \n",
       "\n",
       "  movement month  hour  Day  \n",
       "0    debit   Aug     1  Wed  \n",
       "1    debit   Aug     1  Wed  \n",
       "2    debit   Aug     1  Wed  "
      ]
     },
     "execution_count": 11,
     "metadata": {},
     "output_type": "execute_result"
    }
   ],
   "source": [
    "data.head(3)"
   ]
  },
  {
   "cell_type": "code",
   "execution_count": 12,
   "metadata": {},
   "outputs": [],
   "source": [
    "def avg_trans(month):\n",
    "    month_data=data[data['month']==month]\n",
    "    no_of_transactions=len(month_data.index)\n",
    "    no_of_users=len(month_data['account'].unique())\n",
    "    avg_transactions=no_of_transactions/no_of_users\n",
    "    return avg_transactions"
   ]
  },
  {
   "cell_type": "code",
   "execution_count": 13,
   "metadata": {},
   "outputs": [],
   "source": [
    "Aug=avg_trans('Aug')"
   ]
  },
  {
   "cell_type": "code",
   "execution_count": 14,
   "metadata": {},
   "outputs": [],
   "source": [
    "Sept=avg_trans('Sep')\n",
    "Oct=avg_trans('Oct')"
   ]
  },
  {
   "cell_type": "code",
   "execution_count": 15,
   "metadata": {},
   "outputs": [
    {
     "name": "stdout",
     "output_type": "stream",
     "text": [
      "Average Transactions\n",
      "Aug  39.43 \n",
      "Sep 40.13 \n",
      "Oct 40.87\n"
     ]
    }
   ],
   "source": [
    "print(\"Average Transactions\\nAug \",Aug,\"\\nSep\",Sept,\"\\nOct\",Oct)"
   ]
  },
  {
   "cell_type": "code",
   "execution_count": 16,
   "metadata": {},
   "outputs": [
    {
     "name": "stdout",
     "output_type": "stream",
     "text": [
      "0 :  2\n",
      "1 :  3\n",
      "2 :  3\n",
      "3 :  4\n",
      "4 :  5\n",
      "5 :  5\n",
      "6 :  4\n",
      "7 :  5\n",
      "8 :  6\n",
      "9 :  11\n",
      "10 :  7\n",
      "11 :  10\n",
      "12 :  6\n",
      "13 :  6\n",
      "14 :  8\n",
      "15 :  8\n",
      "16 :  6\n",
      "17 :  9\n",
      "18 :  5\n",
      "19 :  6\n",
      "20 :  7\n",
      "21 :  8\n",
      "22 :  5\n",
      "23 :  5\n"
     ]
    }
   ],
   "source": [
    "def avg_trans(hr):\n",
    "    day_data=data[data['hour']==hr]\n",
    "    no_of_transactions=len(day_data.index)\n",
    "    no_of_users=len(day_data['account'].unique())\n",
    "    if(no_of_users!=0):\n",
    "        avg_transactions=no_of_transactions/no_of_users\n",
    "    else:\n",
    "        avg_transactions=0\n",
    "    return avg_transactions\n",
    "for i in range(24):\n",
    "    print(i,\": \",int(np.round_(avg_trans(i))))"
   ]
  },
  {
   "cell_type": "code",
   "execution_count": 17,
   "metadata": {},
   "outputs": [
    {
     "name": "stdout",
     "output_type": "stream",
     "text": [
      "Sun :  16\n",
      "Mon :  14\n",
      "Tue :  15\n",
      "Wed :  21\n",
      "Thu :  18\n",
      "Fri :  21\n",
      "Sat :  17\n"
     ]
    }
   ],
   "source": [
    "def avg_trans(day):\n",
    "    week_data=data[data['Day']==day]\n",
    "    no_of_transactions=len(week_data.index)\n",
    "    no_of_users=len(week_data['account'].unique())\n",
    "    avg_transactions=no_of_transactions/no_of_users\n",
    "    return avg_transactions\n",
    "Week=['Sun','Mon','Tue','Wed','Thu','Fri','Sat']\n",
    "for i in Week:\n",
    "    print(i,\": \",int(np.round_(avg_trans(i))))"
   ]
  },
  {
   "cell_type": "code",
   "execution_count": 18,
   "metadata": {},
   "outputs": [
    {
     "data": {
      "text/plain": [
       "Day\n",
       "Fri    249.353517\n",
       "Mon    373.221000\n",
       "Sat     54.419286\n",
       "Sun     53.015845\n",
       "Thu    184.010422\n",
       "Tue    221.576456\n",
       "Wed    195.215570\n",
       "Name: amount, dtype: float64"
      ]
     },
     "execution_count": 18,
     "metadata": {},
     "output_type": "execute_result"
    }
   ],
   "source": [
    "new_data=data.groupby('Day')\n",
    "new_data['amount'].mean()"
   ]
  },
  {
   "cell_type": "code",
   "execution_count": 19,
   "metadata": {},
   "outputs": [
    {
     "name": "stdout",
     "output_type": "stream",
     "text": [
      "hour\n",
      "0      25.0\n",
      "1      85.0\n",
      "2      42.0\n",
      "3     105.0\n",
      "4      35.0\n",
      "5     123.0\n",
      "6      74.0\n",
      "7      59.0\n",
      "8      49.0\n",
      "9      47.0\n",
      "10     56.0\n",
      "11     41.0\n",
      "12     42.0\n",
      "13     38.0\n",
      "14    118.0\n",
      "15     39.0\n",
      "16     48.0\n",
      "17     36.0\n",
      "18     70.0\n",
      "19     32.0\n",
      "20     41.0\n",
      "21     40.0\n",
      "22     48.0\n",
      "23     46.0\n",
      "Name: amount, dtype: float64\n",
      "hour\n",
      "0       23.0\n",
      "1       20.0\n",
      "2      135.0\n",
      "3       49.0\n",
      "4      123.0\n",
      "5       42.0\n",
      "6       78.0\n",
      "7       61.0\n",
      "8       41.0\n",
      "9       31.0\n",
      "10      39.0\n",
      "11    1003.0\n",
      "12     408.0\n",
      "13    1219.0\n",
      "14     644.0\n",
      "15     192.0\n",
      "16     116.0\n",
      "17    1095.0\n",
      "18      49.0\n",
      "19      74.0\n",
      "20      50.0\n",
      "21      47.0\n",
      "22      31.0\n",
      "23      58.0\n",
      "Name: amount, dtype: float64\n",
      "hour\n",
      "0      22.0\n",
      "1      29.0\n",
      "2      64.0\n",
      "3      48.0\n",
      "4      72.0\n",
      "5      62.0\n",
      "6      42.0\n",
      "7      56.0\n",
      "8      48.0\n",
      "9      41.0\n",
      "10     60.0\n",
      "11    336.0\n",
      "12    847.0\n",
      "13    429.0\n",
      "14    252.0\n",
      "15    171.0\n",
      "16    374.0\n",
      "17    728.0\n",
      "18     34.0\n",
      "19     65.0\n",
      "20     81.0\n",
      "21     90.0\n",
      "22     58.0\n",
      "23     63.0\n",
      "Name: amount, dtype: float64\n",
      "hour\n",
      "0      22.0\n",
      "1      41.0\n",
      "2      70.0\n",
      "3     448.0\n",
      "4      44.0\n",
      "5     108.0\n",
      "6      54.0\n",
      "7      47.0\n",
      "8      53.0\n",
      "9      41.0\n",
      "10     64.0\n",
      "11    228.0\n",
      "12    529.0\n",
      "13    554.0\n",
      "14    174.0\n",
      "15    117.0\n",
      "16    591.0\n",
      "17    592.0\n",
      "18     53.0\n",
      "19     60.0\n",
      "20     30.0\n",
      "21     60.0\n",
      "22     26.0\n",
      "23     35.0\n",
      "Name: amount, dtype: float64\n",
      "hour\n",
      "0      47.0\n",
      "1      28.0\n",
      "2     109.0\n",
      "3      65.0\n",
      "4      81.0\n",
      "5      38.0\n",
      "6      50.0\n",
      "7      81.0\n",
      "8      35.0\n",
      "9      46.0\n",
      "10     42.0\n",
      "11    341.0\n",
      "12    348.0\n",
      "13    509.0\n",
      "14    362.0\n",
      "15    192.0\n",
      "16    328.0\n",
      "17    504.0\n",
      "18     60.0\n",
      "19     88.0\n",
      "20     42.0\n",
      "21     35.0\n",
      "22     79.0\n",
      "23     67.0\n",
      "Name: amount, dtype: float64\n",
      "hour\n",
      "0      24.0\n",
      "1      22.0\n",
      "2     108.0\n",
      "3      61.0\n",
      "4      60.0\n",
      "5      66.0\n",
      "6      59.0\n",
      "7     145.0\n",
      "8      41.0\n",
      "9      40.0\n",
      "10     34.0\n",
      "11    191.0\n",
      "12    323.0\n",
      "13    974.0\n",
      "14    235.0\n",
      "15    722.0\n",
      "16    435.0\n",
      "17    905.0\n",
      "18     49.0\n",
      "19     45.0\n",
      "20     45.0\n",
      "21     41.0\n",
      "22     37.0\n",
      "23     41.0\n",
      "Name: amount, dtype: float64\n",
      "hour\n",
      "0      28.0\n",
      "1      90.0\n",
      "2      50.0\n",
      "3     107.0\n",
      "4      37.0\n",
      "5      44.0\n",
      "6      69.0\n",
      "7      57.0\n",
      "8      36.0\n",
      "9      57.0\n",
      "10     60.0\n",
      "11     64.0\n",
      "12     54.0\n",
      "13     38.0\n",
      "14     86.0\n",
      "15     64.0\n",
      "16     40.0\n",
      "17     59.0\n",
      "18     63.0\n",
      "19     30.0\n",
      "20     48.0\n",
      "21     37.0\n",
      "22     66.0\n",
      "23     55.0\n",
      "Name: amount, dtype: float64\n"
     ]
    }
   ],
   "source": [
    "new_data=data.groupby(['Day','hour'])\n",
    "day_hour=np.round_(new_data['amount'].mean())\n",
    "Week=['Sun','Mon','Tue','Wed','Thu','Fri','Sat']\n",
    "for i in Week:\n",
    "    print(day_hour[i],sep='\\t')"
   ]
  },
  {
   "cell_type": "code",
   "execution_count": 20,
   "metadata": {},
   "outputs": [],
   "source": [
    "import seaborn as sns"
   ]
  },
  {
   "cell_type": "code",
   "execution_count": 21,
   "metadata": {},
   "outputs": [
    {
     "data": {
      "text/plain": [
       "<matplotlib.axes._subplots.AxesSubplot at 0x27cf0109f98>"
      ]
     },
     "execution_count": 21,
     "metadata": {},
     "output_type": "execute_result"
    },
    {
     "data": {
      "image/png": "[encoded data removed]",
      "text/plain": [
       "<Figure size 432x288 with 1 Axes>"
      ]
     },
     "metadata": {
      "needs_background": "light"
     },
     "output_type": "display_data"
    }
   ],
   "source": [
    "sns.boxplot(x='movement', y='amount',data=data,palette='cubehelix')"
   ]
  },
  {
   "cell_type": "code",
   "execution_count": 22,
   "metadata": {},
   "outputs": [
    {
     "data": {
      "text/plain": [
       "<matplotlib.axes._subplots.AxesSubplot at 0x27cf090b710>"
      ]
     },
     "execution_count": 22,
     "metadata": {},
     "output_type": "execute_result"
    },
    {
     "data": {
      "image/png": "[encoded data removed]",
      "text/plain": [
       "<Figure size 432x288 with 1 Axes>"
      ]
     },
     "metadata": {
      "needs_background": "light"
     },
     "output_type": "display_data"
    }
   ],
   "source": [
    "sns.scatterplot(x='Day',y='amount',hue='movement',palette='husl',data=data)"
   ]
  },
  {
   "cell_type": "code",
   "execution_count": 23,
   "metadata": {},
   "outputs": [
    {
     "data": {
      "text/plain": [
       "<matplotlib.axes._subplots.AxesSubplot at 0x27cf046bf98>"
      ]
     },
     "execution_count": 23,
     "metadata": {},
     "output_type": "execute_result"
    },
    {
     "data": {
      "image/png": "[encoded data removed]",
      "text/plain": [
       "<Figure size 432x288 with 1 Axes>"
      ]
     },
     "metadata": {
      "needs_background": "light"
     },
     "output_type": "display_data"
    }
   ],
   "source": [
    "sns.lineplot(x='hour',y='amount',hue='Day',data=data,palette='husl')"
   ]
  },
  {
   "cell_type": "code",
   "execution_count": 24,
   "metadata": {},
   "outputs": [
    {
     "data": {
      "text/html": [
       "<div>\n",
       "<style scoped>\n",
       "    .dataframe tbody tr th:only-of-type {\n",
       "        vertical-align: middle;\n",
       "    }\n",
       "\n",
       "    .dataframe tbody tr th {\n",
       "        vertical-align: top;\n",
       "    }\n",
       "\n",
       "    .dataframe thead th {\n",
       "        text-align: right;\n",
       "    }\n",
       "</style>\n",
       "<table border=\"1\" class=\"dataframe\">\n",
       "  <thead>\n",
       "    <tr style=\"text-align: right;\">\n",
       "      <th></th>\n",
       "      <th>card_present_flag</th>\n",
       "      <th>balance</th>\n",
       "      <th>age</th>\n",
       "      <th>amount</th>\n",
       "      <th>hour</th>\n",
       "    </tr>\n",
       "  </thead>\n",
       "  <tbody>\n",
       "    <tr>\n",
       "      <th>card_present_flag</th>\n",
       "      <td>1.000000</td>\n",
       "      <td>0.005925</td>\n",
       "      <td>-0.008405</td>\n",
       "      <td>-0.002074</td>\n",
       "      <td>-0.004132</td>\n",
       "    </tr>\n",
       "    <tr>\n",
       "      <th>balance</th>\n",
       "      <td>0.005925</td>\n",
       "      <td>1.000000</td>\n",
       "      <td>0.199329</td>\n",
       "      <td>0.059178</td>\n",
       "      <td>0.013898</td>\n",
       "    </tr>\n",
       "    <tr>\n",
       "      <th>age</th>\n",
       "      <td>-0.008405</td>\n",
       "      <td>0.199329</td>\n",
       "      <td>1.000000</td>\n",
       "      <td>0.029980</td>\n",
       "      <td>-0.000568</td>\n",
       "    </tr>\n",
       "    <tr>\n",
       "      <th>amount</th>\n",
       "      <td>-0.002074</td>\n",
       "      <td>0.059178</td>\n",
       "      <td>0.029980</td>\n",
       "      <td>1.000000</td>\n",
       "      <td>0.032348</td>\n",
       "    </tr>\n",
       "    <tr>\n",
       "      <th>hour</th>\n",
       "      <td>-0.004132</td>\n",
       "      <td>0.013898</td>\n",
       "      <td>-0.000568</td>\n",
       "      <td>0.032348</td>\n",
       "      <td>1.000000</td>\n",
       "    </tr>\n",
       "  </tbody>\n",
       "</table>\n",
       "</div>"
      ],
      "text/plain": [
       "                   card_present_flag   balance       age    amount      hour\n",
       "card_present_flag           1.000000  0.005925 -0.008405 -0.002074 -0.004132\n",
       "balance                     0.005925  1.000000  0.199329  0.059178  0.013898\n",
       "age                        -0.008405  0.199329  1.000000  0.029980 -0.000568\n",
       "amount                     -0.002074  0.059178  0.029980  1.000000  0.032348\n",
       "hour                       -0.004132  0.013898 -0.000568  0.032348  1.000000"
      ]
     },
     "execution_count": 24,
     "metadata": {},
     "output_type": "execute_result"
    }
   ],
   "source": [
    "data.corr()"
   ]
  },
  {
   "cell_type": "code",
   "execution_count": 25,
   "metadata": {},
   "outputs": [
    {
     "data": {
      "text/plain": [
       "<matplotlib.axes._subplots.AxesSubplot at 0x27cf05c0898>"
      ]
     },
     "execution_count": 25,
     "metadata": {},
     "output_type": "execute_result"
    },
    {
     "data": {
      "image/png": "[encoded data removed]",
      "text/plain": [
       "<Figure size 432x288 with 2 Axes>"
      ]
     },
     "metadata": {
      "needs_background": "light"
     },
     "output_type": "display_data"
    }
   ],
   "source": [
    "sns.heatmap(data.corr())"
   ]
  },
  {
   "cell_type": "code",
   "execution_count": null,
   "metadata": {},
   "outputs": [],
   "source": []
  }
 ],
 "metadata": {
  "kernelspec": {
   "display_name": "Python 3",
   "language": "python",
   "name": "python3"
  },
  "language_info": {
   "codemirror_mode": {
    "name": "ipython",
    "version": 3
   },
   "file_extension": ".py",
   "mimetype": "text/x-python",
   "name": "python",
   "nbconvert_exporter": "python",
   "pygments_lexer": "ipython3",
   "version": "3.7.3"
  }
 },
 "nbformat": 4,
 "nbformat_minor": 2
}
